{
 "cells": [
  {
   "cell_type": "markdown",
   "metadata": {},
   "source": [
    "##             <center>HELLO FRESH DATA SCIENCE ASSIGNMENT</center>    "
   ]
  },
  {
   "cell_type": "markdown",
   "metadata": {},
   "source": [
    "**1\\. Import the different libraries to be used for the data exploration and prediction**"
   ]
  },
  {
   "cell_type": "code",
   "execution_count": 42,
   "metadata": {
    "collapsed": true
   },
   "outputs": [],
   "source": [
    "%matplotlib inline\n",
    "import matplotlib.pyplot as plt  # Data visualization\n",
    "import seaborn as sns # Data visualization\n",
    "import numpy as np   #fundamental package for scientific computing\n",
    "import pandas as pd  #fundamental package for data analysis"
   ]
  },
  {
   "cell_type": "markdown",
   "metadata": {},
   "source": [
    "**2\\. Read the train_data csv file and assign it to a dataframe named \"df\"**"
   ]
  },
  {
   "cell_type": "code",
   "execution_count": 43,
   "metadata": {
    "collapsed": true
   },
   "outputs": [],
   "source": [
    "df = pd.read_csv('data/UKretail.csv', encoding='latin1')"
   ]
  },
  {
   "cell_type": "markdown",
   "metadata": {},
   "source": [
    "**3\\. Data exploration**"
   ]
  },
  {
   "cell_type": "code",
   "execution_count": 44,
   "metadata": {},
   "outputs": [
    {
     "data": {
      "text/html": [
       "<div>\n",
       "<style>\n",
       "    .dataframe thead tr:only-child th {\n",
       "        text-align: right;\n",
       "    }\n",
       "\n",
       "    .dataframe thead th {\n",
       "        text-align: left;\n",
       "    }\n",
       "\n",
       "    .dataframe tbody tr th {\n",
       "        vertical-align: top;\n",
       "    }\n",
       "</style>\n",
       "<table border=\"1\" class=\"dataframe\">\n",
       "  <thead>\n",
       "    <tr style=\"text-align: right;\">\n",
       "      <th></th>\n",
       "      <th>InvoiceNo</th>\n",
       "      <th>StockCode</th>\n",
       "      <th>Description</th>\n",
       "      <th>Quantity</th>\n",
       "      <th>InvoiceDate</th>\n",
       "      <th>UnitPrice</th>\n",
       "      <th>CustomerID</th>\n",
       "      <th>Country</th>\n",
       "    </tr>\n",
       "  </thead>\n",
       "  <tbody>\n",
       "    <tr>\n",
       "      <th>0</th>\n",
       "      <td>536365</td>\n",
       "      <td>22752</td>\n",
       "      <td>SET 7 BABUSHKA NESTING BOXES</td>\n",
       "      <td>2</td>\n",
       "      <td>2010-12-01 08:26:02</td>\n",
       "      <td>7.65</td>\n",
       "      <td>17850.0</td>\n",
       "      <td>United Kingdom</td>\n",
       "    </tr>\n",
       "    <tr>\n",
       "      <th>1</th>\n",
       "      <td>536365</td>\n",
       "      <td>71053</td>\n",
       "      <td>WHITE METAL LANTERN</td>\n",
       "      <td>6</td>\n",
       "      <td>2010-12-01 08:26:02</td>\n",
       "      <td>3.39</td>\n",
       "      <td>17850.0</td>\n",
       "      <td>United Kingdom</td>\n",
       "    </tr>\n",
       "    <tr>\n",
       "      <th>2</th>\n",
       "      <td>536365</td>\n",
       "      <td>84029G</td>\n",
       "      <td>KNITTED UNION FLAG HOT WATER BOTTLE</td>\n",
       "      <td>6</td>\n",
       "      <td>2010-12-01 08:26:02</td>\n",
       "      <td>3.39</td>\n",
       "      <td>17850.0</td>\n",
       "      <td>United Kingdom</td>\n",
       "    </tr>\n",
       "    <tr>\n",
       "      <th>3</th>\n",
       "      <td>536365</td>\n",
       "      <td>85123A</td>\n",
       "      <td>WHITE HANGING HEART T-LIGHT HOLDER</td>\n",
       "      <td>6</td>\n",
       "      <td>2010-12-01 08:26:02</td>\n",
       "      <td>2.55</td>\n",
       "      <td>17850.0</td>\n",
       "      <td>United Kingdom</td>\n",
       "    </tr>\n",
       "    <tr>\n",
       "      <th>4</th>\n",
       "      <td>536366</td>\n",
       "      <td>22633</td>\n",
       "      <td>HAND WARMER UNION JACK</td>\n",
       "      <td>6</td>\n",
       "      <td>2010-12-01 08:28:02</td>\n",
       "      <td>1.85</td>\n",
       "      <td>17850.0</td>\n",
       "      <td>United Kingdom</td>\n",
       "    </tr>\n",
       "  </tbody>\n",
       "</table>\n",
       "</div>"
      ],
      "text/plain": [
       "  InvoiceNo StockCode                          Description  Quantity  \\\n",
       "0    536365     22752         SET 7 BABUSHKA NESTING BOXES         2   \n",
       "1    536365     71053                  WHITE METAL LANTERN         6   \n",
       "2    536365    84029G  KNITTED UNION FLAG HOT WATER BOTTLE         6   \n",
       "3    536365    85123A   WHITE HANGING HEART T-LIGHT HOLDER         6   \n",
       "4    536366     22633               HAND WARMER UNION JACK         6   \n",
       "\n",
       "           InvoiceDate  UnitPrice  CustomerID         Country  \n",
       "0  2010-12-01 08:26:02       7.65     17850.0  United Kingdom  \n",
       "1  2010-12-01 08:26:02       3.39     17850.0  United Kingdom  \n",
       "2  2010-12-01 08:26:02       3.39     17850.0  United Kingdom  \n",
       "3  2010-12-01 08:26:02       2.55     17850.0  United Kingdom  \n",
       "4  2010-12-01 08:28:02       1.85     17850.0  United Kingdom  "
      ]
     },
     "execution_count": 44,
     "metadata": {},
     "output_type": "execute_result"
    }
   ],
   "source": [
    "df.head() #quick look at the first five rows of the dataset"
   ]
  },
  {
   "cell_type": "code",
   "execution_count": 45,
   "metadata": {},
   "outputs": [
    {
     "data": {
      "text/plain": [
       "InvoiceNo          0\n",
       "StockCode          0\n",
       "Description      870\n",
       "Quantity           0\n",
       "InvoiceDate        0\n",
       "UnitPrice          0\n",
       "CustomerID     80991\n",
       "Country            0\n",
       "dtype: int64"
      ]
     },
     "execution_count": 45,
     "metadata": {},
     "output_type": "execute_result"
    }
   ],
   "source": [
    "df.isnull().sum() # Check for null values in the dataset"
   ]
  },
  {
   "cell_type": "markdown",
   "metadata": {},
   "source": [
    "80991 rows have no customerID. As we want to predict the future date of purchase for a customer, we need to be able to identify this customer somehow and therefore we will discard these records."
   ]
  },
  {
   "cell_type": "code",
   "execution_count": 46,
   "metadata": {},
   "outputs": [
    {
     "name": "stdout",
     "output_type": "stream",
     "text": [
      "<class 'pandas.core.frame.DataFrame'>\n",
      "RangeIndex: 325145 entries, 0 to 325144\n",
      "Data columns (total 8 columns):\n",
      "InvoiceNo      325145 non-null object\n",
      "StockCode      325145 non-null object\n",
      "Description    324275 non-null object\n",
      "Quantity       325145 non-null int64\n",
      "InvoiceDate    325145 non-null object\n",
      "UnitPrice      325145 non-null float64\n",
      "CustomerID     244154 non-null float64\n",
      "Country        325145 non-null object\n",
      "dtypes: float64(2), int64(1), object(5)\n",
      "memory usage: 19.8+ MB\n"
     ]
    }
   ],
   "source": [
    "df.info() #high overview of the dataset with columns datatype"
   ]
  },
  {
   "cell_type": "code",
   "execution_count": 47,
   "metadata": {},
   "outputs": [
    {
     "data": {
      "text/html": [
       "<div>\n",
       "<style>\n",
       "    .dataframe thead tr:only-child th {\n",
       "        text-align: right;\n",
       "    }\n",
       "\n",
       "    .dataframe thead th {\n",
       "        text-align: left;\n",
       "    }\n",
       "\n",
       "    .dataframe tbody tr th {\n",
       "        vertical-align: top;\n",
       "    }\n",
       "</style>\n",
       "<table border=\"1\" class=\"dataframe\">\n",
       "  <thead>\n",
       "    <tr style=\"text-align: right;\">\n",
       "      <th></th>\n",
       "      <th>Quantity</th>\n",
       "      <th>UnitPrice</th>\n",
       "      <th>CustomerID</th>\n",
       "    </tr>\n",
       "  </thead>\n",
       "  <tbody>\n",
       "    <tr>\n",
       "      <th>count</th>\n",
       "      <td>325145.000000</td>\n",
       "      <td>325145.000000</td>\n",
       "      <td>244154.000000</td>\n",
       "    </tr>\n",
       "    <tr>\n",
       "      <th>mean</th>\n",
       "      <td>9.273340</td>\n",
       "      <td>4.845239</td>\n",
       "      <td>15288.823120</td>\n",
       "    </tr>\n",
       "    <tr>\n",
       "      <th>std</th>\n",
       "      <td>154.394112</td>\n",
       "      <td>116.830451</td>\n",
       "      <td>1713.496816</td>\n",
       "    </tr>\n",
       "    <tr>\n",
       "      <th>min</th>\n",
       "      <td>-80995.000000</td>\n",
       "      <td>-11062.060000</td>\n",
       "      <td>12347.000000</td>\n",
       "    </tr>\n",
       "    <tr>\n",
       "      <th>25%</th>\n",
       "      <td>1.000000</td>\n",
       "      <td>1.250000</td>\n",
       "      <td>13959.000000</td>\n",
       "    </tr>\n",
       "    <tr>\n",
       "      <th>50%</th>\n",
       "      <td>3.000000</td>\n",
       "      <td>2.080000</td>\n",
       "      <td>15150.000000</td>\n",
       "    </tr>\n",
       "    <tr>\n",
       "      <th>75%</th>\n",
       "      <td>10.000000</td>\n",
       "      <td>4.130000</td>\n",
       "      <td>16792.750000</td>\n",
       "    </tr>\n",
       "    <tr>\n",
       "      <th>max</th>\n",
       "      <td>12540.000000</td>\n",
       "      <td>38970.000000</td>\n",
       "      <td>18287.000000</td>\n",
       "    </tr>\n",
       "  </tbody>\n",
       "</table>\n",
       "</div>"
      ],
      "text/plain": [
       "            Quantity      UnitPrice     CustomerID\n",
       "count  325145.000000  325145.000000  244154.000000\n",
       "mean        9.273340       4.845239   15288.823120\n",
       "std       154.394112     116.830451    1713.496816\n",
       "min    -80995.000000  -11062.060000   12347.000000\n",
       "25%         1.000000       1.250000   13959.000000\n",
       "50%         3.000000       2.080000   15150.000000\n",
       "75%        10.000000       4.130000   16792.750000\n",
       "max     12540.000000   38970.000000   18287.000000"
      ]
     },
     "execution_count": 47,
     "metadata": {},
     "output_type": "execute_result"
    }
   ],
   "source": [
    "df.describe() #handy statistics about numerical columns"
   ]
  },
  {
   "cell_type": "markdown",
   "metadata": {},
   "source": [
    "The max and min values for both Quantity and UnitPrice seem a bit extremes and can be considered as outliers. However, without further information about these particular records, we will keep them."
   ]
  },
  {
   "cell_type": "code",
   "execution_count": 48,
   "metadata": {},
   "outputs": [
    {
     "data": {
      "text/plain": [
       "United Kingdom          297350\n",
       "Germany                   5745\n",
       "France                    5124\n",
       "EIRE                      4979\n",
       "Spain                     1447\n",
       "Netherlands               1398\n",
       "Belgium                   1210\n",
       "Switzerland               1190\n",
       "Portugal                   894\n",
       "Australia                  771\n",
       "Norway                     664\n",
       "Italy                      501\n",
       "Channel Islands            453\n",
       "Finland                    403\n",
       "Cyprus                     376\n",
       "Unspecified                271\n",
       "Sweden                     265\n",
       "Denmark                    235\n",
       "Austria                    231\n",
       "Japan                      206\n",
       "Poland                     198\n",
       "USA                        183\n",
       "Israel                     170\n",
       "Hong Kong                  163\n",
       "Singapore                  142\n",
       "Iceland                    103\n",
       "Canada                      89\n",
       "Greece                      87\n",
       "Malta                       76\n",
       "United Arab Emirates        42\n",
       "European Community          40\n",
       "RSA                         33\n",
       "Lebanon                     27\n",
       "Lithuania                   24\n",
       "Brazil                      20\n",
       "Czech Republic              18\n",
       "Bahrain                     11\n",
       "Saudi Arabia                 6\n",
       "Name: Country, dtype: int64"
      ]
     },
     "execution_count": 48,
     "metadata": {},
     "output_type": "execute_result"
    }
   ],
   "source": [
    "df['Country'].value_counts()"
   ]
  },
  {
   "cell_type": "code",
   "execution_count": 49,
   "metadata": {},
   "outputs": [
    {
     "data": {
      "text/plain": [
       "3947"
      ]
     },
     "execution_count": 49,
     "metadata": {},
     "output_type": "execute_result"
    }
   ],
   "source": [
    "len(df['StockCode'].unique())"
   ]
  },
  {
   "cell_type": "code",
   "execution_count": 50,
   "metadata": {},
   "outputs": [
    {
     "data": {
      "text/plain": [
       "4325"
      ]
     },
     "execution_count": 50,
     "metadata": {},
     "output_type": "execute_result"
    }
   ],
   "source": [
    "len(df['CustomerID'].unique())"
   ]
  },
  {
   "cell_type": "code",
   "execution_count": 51,
   "metadata": {},
   "outputs": [
    {
     "data": {
      "text/plain": [
       "4071"
      ]
     },
     "execution_count": 51,
     "metadata": {},
     "output_type": "execute_result"
    }
   ],
   "source": [
    "len(df['Description'].unique())"
   ]
  },
  {
   "cell_type": "code",
   "execution_count": 52,
   "metadata": {},
   "outputs": [
    {
     "data": {
      "text/plain": [
       "5587"
      ]
     },
     "execution_count": 52,
     "metadata": {},
     "output_type": "execute_result"
    }
   ],
   "source": [
    "len(df[df['InvoiceNo'].str.startswith('C')])"
   ]
  },
  {
   "cell_type": "code",
   "execution_count": 53,
   "metadata": {},
   "outputs": [],
   "source": [
    "stock_descrip_df = df.groupby(['StockCode','Description']).count().reset_index()"
   ]
  },
  {
   "cell_type": "code",
   "execution_count": 54,
   "metadata": {},
   "outputs": [],
   "source": [
    "mask = stock_descrip_df.duplicated(subset = 'StockCode')"
   ]
  },
  {
   "cell_type": "code",
   "execution_count": 55,
   "metadata": {},
   "outputs": [
    {
     "data": {
      "text/html": [
       "<div>\n",
       "<style>\n",
       "    .dataframe thead tr:only-child th {\n",
       "        text-align: right;\n",
       "    }\n",
       "\n",
       "    .dataframe thead th {\n",
       "        text-align: left;\n",
       "    }\n",
       "\n",
       "    .dataframe tbody tr th {\n",
       "        vertical-align: top;\n",
       "    }\n",
       "</style>\n",
       "<table border=\"1\" class=\"dataframe\">\n",
       "  <thead>\n",
       "    <tr style=\"text-align: right;\">\n",
       "      <th></th>\n",
       "      <th>StockCode</th>\n",
       "      <th>Description</th>\n",
       "      <th>InvoiceNo</th>\n",
       "      <th>Quantity</th>\n",
       "      <th>InvoiceDate</th>\n",
       "      <th>UnitPrice</th>\n",
       "      <th>CustomerID</th>\n",
       "      <th>Country</th>\n",
       "    </tr>\n",
       "  </thead>\n",
       "  <tbody>\n",
       "    <tr>\n",
       "      <th>7</th>\n",
       "      <td>10133</td>\n",
       "      <td>COLOURING PENCILS BROWN TUBE</td>\n",
       "      <td>113</td>\n",
       "      <td>113</td>\n",
       "      <td>113</td>\n",
       "      <td>113</td>\n",
       "      <td>71</td>\n",
       "      <td>113</td>\n",
       "    </tr>\n",
       "    <tr>\n",
       "      <th>8</th>\n",
       "      <td>10133</td>\n",
       "      <td>damaged</td>\n",
       "      <td>1</td>\n",
       "      <td>1</td>\n",
       "      <td>1</td>\n",
       "      <td>1</td>\n",
       "      <td>0</td>\n",
       "      <td>1</td>\n",
       "    </tr>\n",
       "    <tr>\n",
       "      <th>25</th>\n",
       "      <td>15058A</td>\n",
       "      <td>BLUE POLKADOT GARDEN PARASOL</td>\n",
       "      <td>49</td>\n",
       "      <td>49</td>\n",
       "      <td>49</td>\n",
       "      <td>49</td>\n",
       "      <td>30</td>\n",
       "      <td>49</td>\n",
       "    </tr>\n",
       "    <tr>\n",
       "      <th>26</th>\n",
       "      <td>15058A</td>\n",
       "      <td>wet/rusty</td>\n",
       "      <td>1</td>\n",
       "      <td>1</td>\n",
       "      <td>1</td>\n",
       "      <td>1</td>\n",
       "      <td>0</td>\n",
       "      <td>1</td>\n",
       "    </tr>\n",
       "    <tr>\n",
       "      <th>31</th>\n",
       "      <td>16008</td>\n",
       "      <td>SMALL FOLDING SCISSOR(POINTED EDGE)</td>\n",
       "      <td>35</td>\n",
       "      <td>35</td>\n",
       "      <td>35</td>\n",
       "      <td>35</td>\n",
       "      <td>35</td>\n",
       "      <td>35</td>\n",
       "    </tr>\n",
       "    <tr>\n",
       "      <th>32</th>\n",
       "      <td>16008</td>\n",
       "      <td>check</td>\n",
       "      <td>1</td>\n",
       "      <td>1</td>\n",
       "      <td>1</td>\n",
       "      <td>1</td>\n",
       "      <td>0</td>\n",
       "      <td>1</td>\n",
       "    </tr>\n",
       "    <tr>\n",
       "      <th>49</th>\n",
       "      <td>16156L</td>\n",
       "      <td>WRAP CAROUSEL</td>\n",
       "      <td>8</td>\n",
       "      <td>8</td>\n",
       "      <td>8</td>\n",
       "      <td>8</td>\n",
       "      <td>8</td>\n",
       "      <td>8</td>\n",
       "    </tr>\n",
       "    <tr>\n",
       "      <th>50</th>\n",
       "      <td>16156L</td>\n",
       "      <td>WRAP, CAROUSEL</td>\n",
       "      <td>1</td>\n",
       "      <td>1</td>\n",
       "      <td>1</td>\n",
       "      <td>1</td>\n",
       "      <td>1</td>\n",
       "      <td>1</td>\n",
       "    </tr>\n",
       "    <tr>\n",
       "      <th>58</th>\n",
       "      <td>16168M</td>\n",
       "      <td>FUNKY MONKEY GIFT BAG MEDIUM</td>\n",
       "      <td>27</td>\n",
       "      <td>27</td>\n",
       "      <td>27</td>\n",
       "      <td>27</td>\n",
       "      <td>13</td>\n",
       "      <td>27</td>\n",
       "    </tr>\n",
       "    <tr>\n",
       "      <th>59</th>\n",
       "      <td>16168M</td>\n",
       "      <td>found</td>\n",
       "      <td>1</td>\n",
       "      <td>1</td>\n",
       "      <td>1</td>\n",
       "      <td>1</td>\n",
       "      <td>0</td>\n",
       "      <td>1</td>\n",
       "    </tr>\n",
       "    <tr>\n",
       "      <th>60</th>\n",
       "      <td>16169E</td>\n",
       "      <td>WRAP 50'S  CHRISTMAS</td>\n",
       "      <td>90</td>\n",
       "      <td>90</td>\n",
       "      <td>90</td>\n",
       "      <td>90</td>\n",
       "      <td>90</td>\n",
       "      <td>90</td>\n",
       "    </tr>\n",
       "    <tr>\n",
       "      <th>61</th>\n",
       "      <td>16169E</td>\n",
       "      <td>check</td>\n",
       "      <td>1</td>\n",
       "      <td>1</td>\n",
       "      <td>1</td>\n",
       "      <td>1</td>\n",
       "      <td>0</td>\n",
       "      <td>1</td>\n",
       "    </tr>\n",
       "    <tr>\n",
       "      <th>89</th>\n",
       "      <td>17012B</td>\n",
       "      <td>ORIGAMI JASMINE INCENSE/CANDLE SET</td>\n",
       "      <td>47</td>\n",
       "      <td>47</td>\n",
       "      <td>47</td>\n",
       "      <td>47</td>\n",
       "      <td>24</td>\n",
       "      <td>47</td>\n",
       "    </tr>\n",
       "    <tr>\n",
       "      <th>90</th>\n",
       "      <td>17012B</td>\n",
       "      <td>check</td>\n",
       "      <td>1</td>\n",
       "      <td>1</td>\n",
       "      <td>1</td>\n",
       "      <td>1</td>\n",
       "      <td>0</td>\n",
       "      <td>1</td>\n",
       "    </tr>\n",
       "    <tr>\n",
       "      <th>91</th>\n",
       "      <td>17012C</td>\n",
       "      <td>ORIGAMI LAVENDER INCENSE/CANDL SET</td>\n",
       "      <td>51</td>\n",
       "      <td>51</td>\n",
       "      <td>51</td>\n",
       "      <td>51</td>\n",
       "      <td>26</td>\n",
       "      <td>51</td>\n",
       "    </tr>\n",
       "    <tr>\n",
       "      <th>92</th>\n",
       "      <td>17012C</td>\n",
       "      <td>check</td>\n",
       "      <td>1</td>\n",
       "      <td>1</td>\n",
       "      <td>1</td>\n",
       "      <td>1</td>\n",
       "      <td>0</td>\n",
       "      <td>1</td>\n",
       "    </tr>\n",
       "    <tr>\n",
       "      <th>95</th>\n",
       "      <td>17012F</td>\n",
       "      <td>ORIGAMI SANDLEWOOD INCENSE/CAND SET</td>\n",
       "      <td>58</td>\n",
       "      <td>58</td>\n",
       "      <td>58</td>\n",
       "      <td>58</td>\n",
       "      <td>27</td>\n",
       "      <td>58</td>\n",
       "    </tr>\n",
       "    <tr>\n",
       "      <th>96</th>\n",
       "      <td>17012F</td>\n",
       "      <td>check</td>\n",
       "      <td>1</td>\n",
       "      <td>1</td>\n",
       "      <td>1</td>\n",
       "      <td>1</td>\n",
       "      <td>0</td>\n",
       "      <td>1</td>\n",
       "    </tr>\n",
       "    <tr>\n",
       "      <th>109</th>\n",
       "      <td>17091A</td>\n",
       "      <td>LAVENDER INCENSE IN TIN</td>\n",
       "      <td>21</td>\n",
       "      <td>21</td>\n",
       "      <td>21</td>\n",
       "      <td>21</td>\n",
       "      <td>21</td>\n",
       "      <td>21</td>\n",
       "    </tr>\n",
       "    <tr>\n",
       "      <th>110</th>\n",
       "      <td>17091A</td>\n",
       "      <td>found</td>\n",
       "      <td>1</td>\n",
       "      <td>1</td>\n",
       "      <td>1</td>\n",
       "      <td>1</td>\n",
       "      <td>0</td>\n",
       "      <td>1</td>\n",
       "    </tr>\n",
       "    <tr>\n",
       "      <th>113</th>\n",
       "      <td>17107D</td>\n",
       "      <td>FLOWER FAIRY 5 DRAWER LINERS</td>\n",
       "      <td>15</td>\n",
       "      <td>15</td>\n",
       "      <td>15</td>\n",
       "      <td>15</td>\n",
       "      <td>15</td>\n",
       "      <td>15</td>\n",
       "    </tr>\n",
       "    <tr>\n",
       "      <th>114</th>\n",
       "      <td>17107D</td>\n",
       "      <td>FLOWER FAIRY,5 SUMMER B'DRAW LINERS</td>\n",
       "      <td>12</td>\n",
       "      <td>12</td>\n",
       "      <td>12</td>\n",
       "      <td>12</td>\n",
       "      <td>12</td>\n",
       "      <td>12</td>\n",
       "    </tr>\n",
       "    <tr>\n",
       "      <th>115</th>\n",
       "      <td>17109D</td>\n",
       "      <td>Adjustment</td>\n",
       "      <td>1</td>\n",
       "      <td>1</td>\n",
       "      <td>1</td>\n",
       "      <td>1</td>\n",
       "      <td>0</td>\n",
       "      <td>1</td>\n",
       "    </tr>\n",
       "    <tr>\n",
       "      <th>116</th>\n",
       "      <td>17109D</td>\n",
       "      <td>FLOWER FAIRY INCENSE BOUQUET</td>\n",
       "      <td>3</td>\n",
       "      <td>3</td>\n",
       "      <td>3</td>\n",
       "      <td>3</td>\n",
       "      <td>3</td>\n",
       "      <td>3</td>\n",
       "    </tr>\n",
       "    <tr>\n",
       "      <th>134</th>\n",
       "      <td>20622</td>\n",
       "      <td>VIP PASSPORT COVER</td>\n",
       "      <td>10</td>\n",
       "      <td>10</td>\n",
       "      <td>10</td>\n",
       "      <td>10</td>\n",
       "      <td>7</td>\n",
       "      <td>10</td>\n",
       "    </tr>\n",
       "    <tr>\n",
       "      <th>135</th>\n",
       "      <td>20622</td>\n",
       "      <td>VIPPASSPORT COVER</td>\n",
       "      <td>18</td>\n",
       "      <td>18</td>\n",
       "      <td>18</td>\n",
       "      <td>18</td>\n",
       "      <td>11</td>\n",
       "      <td>18</td>\n",
       "    </tr>\n",
       "    <tr>\n",
       "      <th>147</th>\n",
       "      <td>20665</td>\n",
       "      <td>RED RETROSPOT PURSE</td>\n",
       "      <td>90</td>\n",
       "      <td>90</td>\n",
       "      <td>90</td>\n",
       "      <td>90</td>\n",
       "      <td>39</td>\n",
       "      <td>90</td>\n",
       "    </tr>\n",
       "    <tr>\n",
       "      <th>148</th>\n",
       "      <td>20665</td>\n",
       "      <td>adjustment</td>\n",
       "      <td>1</td>\n",
       "      <td>1</td>\n",
       "      <td>1</td>\n",
       "      <td>1</td>\n",
       "      <td>0</td>\n",
       "      <td>1</td>\n",
       "    </tr>\n",
       "    <tr>\n",
       "      <th>165</th>\n",
       "      <td>20694</td>\n",
       "      <td>?</td>\n",
       "      <td>1</td>\n",
       "      <td>1</td>\n",
       "      <td>1</td>\n",
       "      <td>1</td>\n",
       "      <td>0</td>\n",
       "      <td>1</td>\n",
       "    </tr>\n",
       "    <tr>\n",
       "      <th>166</th>\n",
       "      <td>20694</td>\n",
       "      <td>FLORAL PINK MONSTER</td>\n",
       "      <td>9</td>\n",
       "      <td>9</td>\n",
       "      <td>9</td>\n",
       "      <td>9</td>\n",
       "      <td>6</td>\n",
       "      <td>9</td>\n",
       "    </tr>\n",
       "    <tr>\n",
       "      <th>...</th>\n",
       "      <td>...</td>\n",
       "      <td>...</td>\n",
       "      <td>...</td>\n",
       "      <td>...</td>\n",
       "      <td>...</td>\n",
       "      <td>...</td>\n",
       "      <td>...</td>\n",
       "      <td>...</td>\n",
       "    </tr>\n",
       "    <tr>\n",
       "      <th>3974</th>\n",
       "      <td>85167B</td>\n",
       "      <td>DAMAGED</td>\n",
       "      <td>1</td>\n",
       "      <td>1</td>\n",
       "      <td>1</td>\n",
       "      <td>1</td>\n",
       "      <td>0</td>\n",
       "      <td>1</td>\n",
       "    </tr>\n",
       "    <tr>\n",
       "      <th>3984</th>\n",
       "      <td>85172</td>\n",
       "      <td>?sold as sets?</td>\n",
       "      <td>1</td>\n",
       "      <td>1</td>\n",
       "      <td>1</td>\n",
       "      <td>1</td>\n",
       "      <td>0</td>\n",
       "      <td>1</td>\n",
       "    </tr>\n",
       "    <tr>\n",
       "      <th>3985</th>\n",
       "      <td>85172</td>\n",
       "      <td>Dotcom set</td>\n",
       "      <td>1</td>\n",
       "      <td>1</td>\n",
       "      <td>1</td>\n",
       "      <td>1</td>\n",
       "      <td>0</td>\n",
       "      <td>1</td>\n",
       "    </tr>\n",
       "    <tr>\n",
       "      <th>3986</th>\n",
       "      <td>85172</td>\n",
       "      <td>HYACINTH BULB T-LIGHT CANDLES</td>\n",
       "      <td>30</td>\n",
       "      <td>30</td>\n",
       "      <td>30</td>\n",
       "      <td>30</td>\n",
       "      <td>28</td>\n",
       "      <td>30</td>\n",
       "    </tr>\n",
       "    <tr>\n",
       "      <th>3987</th>\n",
       "      <td>85172</td>\n",
       "      <td>wrongly sold as sets</td>\n",
       "      <td>1</td>\n",
       "      <td>1</td>\n",
       "      <td>1</td>\n",
       "      <td>1</td>\n",
       "      <td>0</td>\n",
       "      <td>1</td>\n",
       "    </tr>\n",
       "    <tr>\n",
       "      <th>3990</th>\n",
       "      <td>85175</td>\n",
       "      <td>? sold as sets?</td>\n",
       "      <td>1</td>\n",
       "      <td>1</td>\n",
       "      <td>1</td>\n",
       "      <td>1</td>\n",
       "      <td>0</td>\n",
       "      <td>1</td>\n",
       "    </tr>\n",
       "    <tr>\n",
       "      <th>3991</th>\n",
       "      <td>85175</td>\n",
       "      <td>Amazon sold sets</td>\n",
       "      <td>1</td>\n",
       "      <td>1</td>\n",
       "      <td>1</td>\n",
       "      <td>1</td>\n",
       "      <td>0</td>\n",
       "      <td>1</td>\n",
       "    </tr>\n",
       "    <tr>\n",
       "      <th>3992</th>\n",
       "      <td>85175</td>\n",
       "      <td>CACTI T-LIGHT CANDLES</td>\n",
       "      <td>91</td>\n",
       "      <td>91</td>\n",
       "      <td>91</td>\n",
       "      <td>91</td>\n",
       "      <td>85</td>\n",
       "      <td>91</td>\n",
       "    </tr>\n",
       "    <tr>\n",
       "      <th>3993</th>\n",
       "      <td>85175</td>\n",
       "      <td>check</td>\n",
       "      <td>1</td>\n",
       "      <td>1</td>\n",
       "      <td>1</td>\n",
       "      <td>1</td>\n",
       "      <td>0</td>\n",
       "      <td>1</td>\n",
       "    </tr>\n",
       "    <tr>\n",
       "      <th>4003</th>\n",
       "      <td>85184C</td>\n",
       "      <td>S/4 VALENTINE DECOUPAGE HEART BOX</td>\n",
       "      <td>77</td>\n",
       "      <td>77</td>\n",
       "      <td>77</td>\n",
       "      <td>77</td>\n",
       "      <td>52</td>\n",
       "      <td>77</td>\n",
       "    </tr>\n",
       "    <tr>\n",
       "      <th>4004</th>\n",
       "      <td>85184C</td>\n",
       "      <td>SET 4 VALENTINE DECOUPAGE HEART BOX</td>\n",
       "      <td>41</td>\n",
       "      <td>41</td>\n",
       "      <td>41</td>\n",
       "      <td>41</td>\n",
       "      <td>26</td>\n",
       "      <td>41</td>\n",
       "    </tr>\n",
       "    <tr>\n",
       "      <th>4006</th>\n",
       "      <td>85185B</td>\n",
       "      <td>?</td>\n",
       "      <td>1</td>\n",
       "      <td>1</td>\n",
       "      <td>1</td>\n",
       "      <td>1</td>\n",
       "      <td>0</td>\n",
       "      <td>1</td>\n",
       "    </tr>\n",
       "    <tr>\n",
       "      <th>4007</th>\n",
       "      <td>85185B</td>\n",
       "      <td>Found in w/hse</td>\n",
       "      <td>1</td>\n",
       "      <td>1</td>\n",
       "      <td>1</td>\n",
       "      <td>1</td>\n",
       "      <td>0</td>\n",
       "      <td>1</td>\n",
       "    </tr>\n",
       "    <tr>\n",
       "      <th>4008</th>\n",
       "      <td>85185B</td>\n",
       "      <td>PINK HORSE SOCK PUPPET</td>\n",
       "      <td>31</td>\n",
       "      <td>31</td>\n",
       "      <td>31</td>\n",
       "      <td>31</td>\n",
       "      <td>25</td>\n",
       "      <td>31</td>\n",
       "    </tr>\n",
       "    <tr>\n",
       "      <th>4009</th>\n",
       "      <td>85185B</td>\n",
       "      <td>PINK HORSE SOCK PUPPET KIT</td>\n",
       "      <td>14</td>\n",
       "      <td>14</td>\n",
       "      <td>14</td>\n",
       "      <td>14</td>\n",
       "      <td>14</td>\n",
       "      <td>14</td>\n",
       "    </tr>\n",
       "    <tr>\n",
       "      <th>4036</th>\n",
       "      <td>85215</td>\n",
       "      <td>ASSORTED CHEESE FRIDGE MAGNETS</td>\n",
       "      <td>11</td>\n",
       "      <td>11</td>\n",
       "      <td>11</td>\n",
       "      <td>11</td>\n",
       "      <td>3</td>\n",
       "      <td>11</td>\n",
       "    </tr>\n",
       "    <tr>\n",
       "      <th>4037</th>\n",
       "      <td>85215</td>\n",
       "      <td>Damaged</td>\n",
       "      <td>1</td>\n",
       "      <td>1</td>\n",
       "      <td>1</td>\n",
       "      <td>1</td>\n",
       "      <td>0</td>\n",
       "      <td>1</td>\n",
       "    </tr>\n",
       "    <tr>\n",
       "      <th>4048</th>\n",
       "      <td>85231G</td>\n",
       "      <td>ORANGE SCENTED SET/9 T-LIGHTS</td>\n",
       "      <td>47</td>\n",
       "      <td>47</td>\n",
       "      <td>47</td>\n",
       "      <td>47</td>\n",
       "      <td>36</td>\n",
       "      <td>47</td>\n",
       "    </tr>\n",
       "    <tr>\n",
       "      <th>4049</th>\n",
       "      <td>85231G</td>\n",
       "      <td>amazon</td>\n",
       "      <td>1</td>\n",
       "      <td>1</td>\n",
       "      <td>1</td>\n",
       "      <td>1</td>\n",
       "      <td>0</td>\n",
       "      <td>1</td>\n",
       "    </tr>\n",
       "    <tr>\n",
       "      <th>4050</th>\n",
       "      <td>85231G</td>\n",
       "      <td>check</td>\n",
       "      <td>1</td>\n",
       "      <td>1</td>\n",
       "      <td>1</td>\n",
       "      <td>1</td>\n",
       "      <td>0</td>\n",
       "      <td>1</td>\n",
       "    </tr>\n",
       "    <tr>\n",
       "      <th>4083</th>\n",
       "      <td>90014A</td>\n",
       "      <td>SILVER M.O.P. ORBIT NECKLACE</td>\n",
       "      <td>4</td>\n",
       "      <td>4</td>\n",
       "      <td>4</td>\n",
       "      <td>4</td>\n",
       "      <td>2</td>\n",
       "      <td>4</td>\n",
       "    </tr>\n",
       "    <tr>\n",
       "      <th>4084</th>\n",
       "      <td>90014A</td>\n",
       "      <td>SILVER/MOP ORBIT NECKLACE</td>\n",
       "      <td>5</td>\n",
       "      <td>5</td>\n",
       "      <td>5</td>\n",
       "      <td>5</td>\n",
       "      <td>2</td>\n",
       "      <td>5</td>\n",
       "    </tr>\n",
       "    <tr>\n",
       "      <th>4154</th>\n",
       "      <td>90057</td>\n",
       "      <td>DIAMANTE RING ASSORTED IN BOX.</td>\n",
       "      <td>10</td>\n",
       "      <td>10</td>\n",
       "      <td>10</td>\n",
       "      <td>10</td>\n",
       "      <td>10</td>\n",
       "      <td>10</td>\n",
       "    </tr>\n",
       "    <tr>\n",
       "      <th>4155</th>\n",
       "      <td>90057</td>\n",
       "      <td>crushed boxes</td>\n",
       "      <td>1</td>\n",
       "      <td>1</td>\n",
       "      <td>1</td>\n",
       "      <td>1</td>\n",
       "      <td>0</td>\n",
       "      <td>1</td>\n",
       "    </tr>\n",
       "    <tr>\n",
       "      <th>4320</th>\n",
       "      <td>90180A</td>\n",
       "      <td>BLACK+WHITE NECKLACE W TASSEL</td>\n",
       "      <td>5</td>\n",
       "      <td>5</td>\n",
       "      <td>5</td>\n",
       "      <td>5</td>\n",
       "      <td>2</td>\n",
       "      <td>5</td>\n",
       "    </tr>\n",
       "    <tr>\n",
       "      <th>4321</th>\n",
       "      <td>90180A</td>\n",
       "      <td>stock check</td>\n",
       "      <td>1</td>\n",
       "      <td>1</td>\n",
       "      <td>1</td>\n",
       "      <td>1</td>\n",
       "      <td>0</td>\n",
       "      <td>1</td>\n",
       "    </tr>\n",
       "    <tr>\n",
       "      <th>4350</th>\n",
       "      <td>90191</td>\n",
       "      <td>??</td>\n",
       "      <td>1</td>\n",
       "      <td>1</td>\n",
       "      <td>1</td>\n",
       "      <td>1</td>\n",
       "      <td>0</td>\n",
       "      <td>1</td>\n",
       "    </tr>\n",
       "    <tr>\n",
       "      <th>4351</th>\n",
       "      <td>90191</td>\n",
       "      <td>SILVER LARIAT 40CM</td>\n",
       "      <td>6</td>\n",
       "      <td>6</td>\n",
       "      <td>6</td>\n",
       "      <td>6</td>\n",
       "      <td>5</td>\n",
       "      <td>6</td>\n",
       "    </tr>\n",
       "    <tr>\n",
       "      <th>4354</th>\n",
       "      <td>90195A</td>\n",
       "      <td>PURPLE GEMSTONE BRACELET</td>\n",
       "      <td>6</td>\n",
       "      <td>6</td>\n",
       "      <td>6</td>\n",
       "      <td>6</td>\n",
       "      <td>4</td>\n",
       "      <td>6</td>\n",
       "    </tr>\n",
       "    <tr>\n",
       "      <th>4355</th>\n",
       "      <td>90195A</td>\n",
       "      <td>check</td>\n",
       "      <td>1</td>\n",
       "      <td>1</td>\n",
       "      <td>1</td>\n",
       "      <td>1</td>\n",
       "      <td>0</td>\n",
       "      <td>1</td>\n",
       "    </tr>\n",
       "  </tbody>\n",
       "</table>\n",
       "<p>1057 rows × 8 columns</p>\n",
       "</div>"
      ],
      "text/plain": [
       "     StockCode                          Description  InvoiceNo  Quantity  \\\n",
       "7        10133         COLOURING PENCILS BROWN TUBE        113       113   \n",
       "8        10133                              damaged          1         1   \n",
       "25      15058A         BLUE POLKADOT GARDEN PARASOL         49        49   \n",
       "26      15058A                            wet/rusty          1         1   \n",
       "31       16008  SMALL FOLDING SCISSOR(POINTED EDGE)         35        35   \n",
       "32       16008                                check          1         1   \n",
       "49      16156L                        WRAP CAROUSEL          8         8   \n",
       "50      16156L                       WRAP, CAROUSEL          1         1   \n",
       "58      16168M         FUNKY MONKEY GIFT BAG MEDIUM         27        27   \n",
       "59      16168M                                found          1         1   \n",
       "60      16169E                 WRAP 50'S  CHRISTMAS         90        90   \n",
       "61      16169E                                check          1         1   \n",
       "89      17012B   ORIGAMI JASMINE INCENSE/CANDLE SET         47        47   \n",
       "90      17012B                                check          1         1   \n",
       "91      17012C  ORIGAMI LAVENDER INCENSE/CANDL SET          51        51   \n",
       "92      17012C                                check          1         1   \n",
       "95      17012F  ORIGAMI SANDLEWOOD INCENSE/CAND SET         58        58   \n",
       "96      17012F                                check          1         1   \n",
       "109     17091A              LAVENDER INCENSE IN TIN         21        21   \n",
       "110     17091A                                found          1         1   \n",
       "113     17107D         FLOWER FAIRY 5 DRAWER LINERS         15        15   \n",
       "114     17107D  FLOWER FAIRY,5 SUMMER B'DRAW LINERS         12        12   \n",
       "115     17109D                           Adjustment          1         1   \n",
       "116     17109D         FLOWER FAIRY INCENSE BOUQUET          3         3   \n",
       "134      20622                  VIP PASSPORT COVER          10        10   \n",
       "135      20622                   VIPPASSPORT COVER          18        18   \n",
       "147      20665                 RED RETROSPOT PURSE          90        90   \n",
       "148      20665                           adjustment          1         1   \n",
       "165      20694                                    ?          1         1   \n",
       "166      20694                  FLORAL PINK MONSTER          9         9   \n",
       "...        ...                                  ...        ...       ...   \n",
       "3974    85167B                              DAMAGED          1         1   \n",
       "3984     85172                       ?sold as sets?          1         1   \n",
       "3985     85172                           Dotcom set          1         1   \n",
       "3986     85172        HYACINTH BULB T-LIGHT CANDLES         30        30   \n",
       "3987     85172                 wrongly sold as sets          1         1   \n",
       "3990     85175                      ? sold as sets?          1         1   \n",
       "3991     85175                     Amazon sold sets          1         1   \n",
       "3992     85175                CACTI T-LIGHT CANDLES         91        91   \n",
       "3993     85175                                check          1         1   \n",
       "4003    85184C    S/4 VALENTINE DECOUPAGE HEART BOX         77        77   \n",
       "4004    85184C  SET 4 VALENTINE DECOUPAGE HEART BOX         41        41   \n",
       "4006    85185B                                    ?          1         1   \n",
       "4007    85185B                       Found in w/hse          1         1   \n",
       "4008    85185B               PINK HORSE SOCK PUPPET         31        31   \n",
       "4009    85185B           PINK HORSE SOCK PUPPET KIT         14        14   \n",
       "4036     85215       ASSORTED CHEESE FRIDGE MAGNETS         11        11   \n",
       "4037     85215                              Damaged          1         1   \n",
       "4048    85231G        ORANGE SCENTED SET/9 T-LIGHTS         47        47   \n",
       "4049    85231G                               amazon          1         1   \n",
       "4050    85231G                                check          1         1   \n",
       "4083    90014A         SILVER M.O.P. ORBIT NECKLACE          4         4   \n",
       "4084    90014A            SILVER/MOP ORBIT NECKLACE          5         5   \n",
       "4154     90057       DIAMANTE RING ASSORTED IN BOX.         10        10   \n",
       "4155     90057                        crushed boxes          1         1   \n",
       "4320    90180A        BLACK+WHITE NECKLACE W TASSEL          5         5   \n",
       "4321    90180A                          stock check          1         1   \n",
       "4350     90191                                   ??          1         1   \n",
       "4351     90191                   SILVER LARIAT 40CM          6         6   \n",
       "4354    90195A             PURPLE GEMSTONE BRACELET          6         6   \n",
       "4355    90195A                                check          1         1   \n",
       "\n",
       "      InvoiceDate  UnitPrice  CustomerID  Country  \n",
       "7             113        113          71      113  \n",
       "8               1          1           0        1  \n",
       "25             49         49          30       49  \n",
       "26              1          1           0        1  \n",
       "31             35         35          35       35  \n",
       "32              1          1           0        1  \n",
       "49              8          8           8        8  \n",
       "50              1          1           1        1  \n",
       "58             27         27          13       27  \n",
       "59              1          1           0        1  \n",
       "60             90         90          90       90  \n",
       "61              1          1           0        1  \n",
       "89             47         47          24       47  \n",
       "90              1          1           0        1  \n",
       "91             51         51          26       51  \n",
       "92              1          1           0        1  \n",
       "95             58         58          27       58  \n",
       "96              1          1           0        1  \n",
       "109            21         21          21       21  \n",
       "110             1          1           0        1  \n",
       "113            15         15          15       15  \n",
       "114            12         12          12       12  \n",
       "115             1          1           0        1  \n",
       "116             3          3           3        3  \n",
       "134            10         10           7       10  \n",
       "135            18         18          11       18  \n",
       "147            90         90          39       90  \n",
       "148             1          1           0        1  \n",
       "165             1          1           0        1  \n",
       "166             9          9           6        9  \n",
       "...           ...        ...         ...      ...  \n",
       "3974            1          1           0        1  \n",
       "3984            1          1           0        1  \n",
       "3985            1          1           0        1  \n",
       "3986           30         30          28       30  \n",
       "3987            1          1           0        1  \n",
       "3990            1          1           0        1  \n",
       "3991            1          1           0        1  \n",
       "3992           91         91          85       91  \n",
       "3993            1          1           0        1  \n",
       "4003           77         77          52       77  \n",
       "4004           41         41          26       41  \n",
       "4006            1          1           0        1  \n",
       "4007            1          1           0        1  \n",
       "4008           31         31          25       31  \n",
       "4009           14         14          14       14  \n",
       "4036           11         11           3       11  \n",
       "4037            1          1           0        1  \n",
       "4048           47         47          36       47  \n",
       "4049            1          1           0        1  \n",
       "4050            1          1           0        1  \n",
       "4083            4          4           2        4  \n",
       "4084            5          5           2        5  \n",
       "4154           10         10          10       10  \n",
       "4155            1          1           0        1  \n",
       "4320            5          5           2        5  \n",
       "4321            1          1           0        1  \n",
       "4350            1          1           0        1  \n",
       "4351            6          6           5        6  \n",
       "4354            6          6           4        6  \n",
       "4355            1          1           0        1  \n",
       "\n",
       "[1057 rows x 8 columns]"
      ]
     },
     "execution_count": 55,
     "metadata": {},
     "output_type": "execute_result"
    }
   ],
   "source": [
    "stock_descrip_df[stock_descrip_df['StockCode'].isin(stock_descrip_df[mask].StockCode)]"
   ]
  },
  {
   "cell_type": "markdown",
   "metadata": {},
   "source": [
    "Stock codes that have many description are actually the same item and the various description correspond to either a cancellation of the item, a repair, etc."
   ]
  },
  {
   "cell_type": "code",
   "execution_count": 56,
   "metadata": {
    "collapsed": true
   },
   "outputs": [],
   "source": [
    "#Drop rows with no customer ID\n",
    "df = df.dropna(subset = ['CustomerID'])"
   ]
  },
  {
   "cell_type": "code",
   "execution_count": 57,
   "metadata": {
    "collapsed": true
   },
   "outputs": [],
   "source": [
    "#Convert Customer ID to integers\n",
    "df['CustomerID'] = df['CustomerID'].astype('int')"
   ]
  },
  {
   "cell_type": "code",
   "execution_count": 58,
   "metadata": {
    "collapsed": true
   },
   "outputs": [],
   "source": [
    "#Convert Invoice Data to a Date Format\n",
    "df['InvoiceDate'] = pd.to_datetime(df['InvoiceDate']).dt.date"
   ]
  },
  {
   "cell_type": "code",
   "execution_count": 59,
   "metadata": {},
   "outputs": [],
   "source": [
    "#Convert date to ordinal values\n",
    "df['InvoiceDate'] = df['InvoiceDate'].apply(lambda x: x.toordinal())"
   ]
  },
  {
   "cell_type": "code",
   "execution_count": 62,
   "metadata": {},
   "outputs": [
    {
     "name": "stdout",
     "output_type": "stream",
     "text": [
      " earliest date (01/12/2010):  734107 \n",
      " latest date (09/12/2011):  734480\n"
     ]
    }
   ],
   "source": [
    "starting_date = df['InvoiceDate'].min()\n",
    "latest_date = df['InvoiceDate'].max()\n",
    "print(\" earliest date (01/12/2010): \",starting_date,\"\\n\",\"latest date (09/12/2011): \",latest_date)"
   ]
  },
  {
   "cell_type": "code",
   "execution_count": 63,
   "metadata": {
    "collapsed": true
   },
   "outputs": [],
   "source": [
    "#Reorder the dataset and order by customer ID, stockCode and Invoice Date\n",
    "df = df[['CustomerID','StockCode','InvoiceDate', 'InvoiceNo','Description', 'Quantity','UnitPrice','Country']]\n",
    "df = df.sort_values(['CustomerID', 'StockCode', 'InvoiceDate'],ascending=[1, 1, 1])"
   ]
  },
  {
   "cell_type": "code",
   "execution_count": 64,
   "metadata": {},
   "outputs": [
    {
     "data": {
      "text/html": [
       "<div>\n",
       "<style>\n",
       "    .dataframe thead tr:only-child th {\n",
       "        text-align: right;\n",
       "    }\n",
       "\n",
       "    .dataframe thead th {\n",
       "        text-align: left;\n",
       "    }\n",
       "\n",
       "    .dataframe tbody tr th {\n",
       "        vertical-align: top;\n",
       "    }\n",
       "</style>\n",
       "<table border=\"1\" class=\"dataframe\">\n",
       "  <thead>\n",
       "    <tr style=\"text-align: right;\">\n",
       "      <th></th>\n",
       "      <th>CustomerID</th>\n",
       "      <th>StockCode</th>\n",
       "      <th>InvoiceDate</th>\n",
       "      <th>InvoiceNo</th>\n",
       "      <th>Description</th>\n",
       "      <th>Quantity</th>\n",
       "      <th>UnitPrice</th>\n",
       "      <th>Country</th>\n",
       "    </tr>\n",
       "  </thead>\n",
       "  <tbody>\n",
       "    <tr>\n",
       "      <th>88912</th>\n",
       "      <td>12347</td>\n",
       "      <td>16008</td>\n",
       "      <td>734234</td>\n",
       "      <td>549222</td>\n",
       "      <td>SMALL FOLDING SCISSOR(POINTED EDGE)</td>\n",
       "      <td>24</td>\n",
       "      <td>0.25</td>\n",
       "      <td>Iceland</td>\n",
       "    </tr>\n",
       "    <tr>\n",
       "      <th>43297</th>\n",
       "      <td>12347</td>\n",
       "      <td>20719</td>\n",
       "      <td>734163</td>\n",
       "      <td>542237</td>\n",
       "      <td>WOODLAND CHARLOTTE BAG</td>\n",
       "      <td>10</td>\n",
       "      <td>0.85</td>\n",
       "      <td>Iceland</td>\n",
       "    </tr>\n",
       "    <tr>\n",
       "      <th>171921</th>\n",
       "      <td>12347</td>\n",
       "      <td>20719</td>\n",
       "      <td>734351</td>\n",
       "      <td>562032</td>\n",
       "      <td>WOODLAND CHARLOTTE BAG</td>\n",
       "      <td>10</td>\n",
       "      <td>0.85</td>\n",
       "      <td>Iceland</td>\n",
       "    </tr>\n",
       "    <tr>\n",
       "      <th>321007</th>\n",
       "      <td>12347</td>\n",
       "      <td>20719</td>\n",
       "      <td>734478</td>\n",
       "      <td>581180</td>\n",
       "      <td>WOODLAND CHARLOTTE BAG</td>\n",
       "      <td>10</td>\n",
       "      <td>0.85</td>\n",
       "      <td>Iceland</td>\n",
       "    </tr>\n",
       "    <tr>\n",
       "      <th>8944</th>\n",
       "      <td>12347</td>\n",
       "      <td>20780</td>\n",
       "      <td>734113</td>\n",
       "      <td>537626</td>\n",
       "      <td>BLACK EAR MUFF HEADPHONES</td>\n",
       "      <td>12</td>\n",
       "      <td>4.65</td>\n",
       "      <td>Iceland</td>\n",
       "    </tr>\n",
       "  </tbody>\n",
       "</table>\n",
       "</div>"
      ],
      "text/plain": [
       "        CustomerID StockCode  InvoiceDate InvoiceNo  \\\n",
       "88912        12347     16008       734234    549222   \n",
       "43297        12347     20719       734163    542237   \n",
       "171921       12347     20719       734351    562032   \n",
       "321007       12347     20719       734478    581180   \n",
       "8944         12347     20780       734113    537626   \n",
       "\n",
       "                                Description  Quantity  UnitPrice  Country  \n",
       "88912   SMALL FOLDING SCISSOR(POINTED EDGE)        24       0.25  Iceland  \n",
       "43297                WOODLAND CHARLOTTE BAG        10       0.85  Iceland  \n",
       "171921               WOODLAND CHARLOTTE BAG        10       0.85  Iceland  \n",
       "321007               WOODLAND CHARLOTTE BAG        10       0.85  Iceland  \n",
       "8944              BLACK EAR MUFF HEADPHONES        12       4.65  Iceland  "
      ]
     },
     "execution_count": 64,
     "metadata": {},
     "output_type": "execute_result"
    }
   ],
   "source": [
    "df.head() #sanity check"
   ]
  },
  {
   "cell_type": "code",
   "execution_count": 77,
   "metadata": {
    "collapsed": true
   },
   "outputs": [],
   "source": [
    "#Remove rows that contains a cancellation. We only want to focus on rows where customer made a purchase.\n",
    "df = df[~df['InvoiceNo'].str.startswith('C')]"
   ]
  },
  {
   "cell_type": "markdown",
   "metadata": {},
   "source": [
    "**4\\. Prediction of purchasing date for each customer**"
   ]
  },
  {
   "cell_type": "markdown",
   "metadata": {},
   "source": [
    "To perform this prediction, I have used the python lifetime library that enables to study user behaviour."
   ]
  },
  {
   "cell_type": "code",
   "execution_count": 120,
   "metadata": {
    "collapsed": true
   },
   "outputs": [],
   "source": [
    "import lifetimes\n",
    "from lifetimes import BetaGeoFitter"
   ]
  },
  {
   "cell_type": "markdown",
   "metadata": {},
   "source": [
    "Model Decription: Customers buy stochastically according to a Poisson distribution with purchasing rate λ.  After each purchase the customer has p% chance of becoming inactive.  Therefore, the time period at which a customer becomes inactive is distributed as a shifted geometric distribution.  The customer-base is heterogeneous across those two parameters such that we can assume a gamma and beta distribution respectively.  Lastly we assume that λ and p across customers are jointly independent.  This makes some of the math later on much easier."
   ]
  },
  {
   "cell_type": "markdown",
   "metadata": {},
   "source": [
    "We will now refactor our dataset and compute for each customer the following parameters\n",
    "\n",
    "1. **Frequency**: count of days the customer had a purchase on\n",
    "2. **T**: duration between a customer’s first purchase and the end of the period under study.\n",
    "3. **Recency**: equal to the duration between a customer’s first purchase and their latest purchase. "
   ]
  },
  {
   "cell_type": "code",
   "execution_count": 108,
   "metadata": {
    "collapsed": true
   },
   "outputs": [],
   "source": [
    "final = df.copy()"
   ]
  },
  {
   "cell_type": "code",
   "execution_count": 109,
   "metadata": {},
   "outputs": [],
   "source": [
    "final = final.groupby(['CustomerID','InvoiceDate']).max().reset_index()"
   ]
  },
  {
   "cell_type": "code",
   "execution_count": 110,
   "metadata": {
    "collapsed": true
   },
   "outputs": [],
   "source": [
    "#function to create the dataset with frequency, T and recency\n",
    "def create_lifetime_df(df):\n",
    "    lf_df = pd.DataFrame(index = df[\"CustomerID\"].unique(),columns=['CustomerID','frequency', 'T', 'recency'])\n",
    "    for i in df[\"CustomerID\"].unique():\n",
    "        customer_df = df[df['CustomerID'] == i ].reset_index()\n",
    "        frequency = len(customer_df)\n",
    "        T = latest_date - customer_df['InvoiceDate'][0]\n",
    "        recency = customer_df['InvoiceDate'][frequency - 1] - customer_df['InvoiceDate'][0]\n",
    "        lf_df.loc[i, 'CustomerID'] = int(i)\n",
    "        lf_df.loc[i, 'frequency'] = int(frequency)\n",
    "        lf_df.loc[i, 'T'] = int(T)\n",
    "        lf_df.loc[i, 'recency'] = int(recency)\n",
    "        lf_df.set_index('CustomerID')\n",
    "    return lf_df"
   ]
  },
  {
   "cell_type": "code",
   "execution_count": 111,
   "metadata": {},
   "outputs": [],
   "source": [
    "lifetime_df = create_lifetime_df(final)"
   ]
  },
  {
   "cell_type": "code",
   "execution_count": 149,
   "metadata": {},
   "outputs": [
    {
     "data": {
      "text/plain": [
       "(4291, 4)"
      ]
     },
     "execution_count": 149,
     "metadata": {},
     "output_type": "execute_result"
    }
   ],
   "source": [
    "lifetime_df.shape"
   ]
  },
  {
   "cell_type": "code",
   "execution_count": 150,
   "metadata": {
    "collapsed": true
   },
   "outputs": [],
   "source": [
    "lifetime_df['frequency'] = lifetime_df['frequency'].astype(int)\n",
    "lifetime_df['recency'] = lifetime_df['recency'].astype(int)\n",
    "lifetime_df['T'] = lifetime_df['T'].astype(int)"
   ]
  },
  {
   "cell_type": "code",
   "execution_count": 151,
   "metadata": {},
   "outputs": [
    {
     "name": "stdout",
     "output_type": "stream",
     "text": [
      "<class 'pandas.core.frame.DataFrame'>\n",
      "Int64Index: 4291 entries, 12347 to 18287\n",
      "Data columns (total 4 columns):\n",
      "CustomerID    4291 non-null object\n",
      "frequency     4291 non-null int64\n",
      "T             4291 non-null int64\n",
      "recency       4291 non-null int64\n",
      "dtypes: int64(3), object(1)\n",
      "memory usage: 327.6+ KB\n"
     ]
    }
   ],
   "source": [
    "lifetime_df.info()"
   ]
  },
  {
   "cell_type": "code",
   "execution_count": 152,
   "metadata": {},
   "outputs": [
    {
     "name": "stdout",
     "output_type": "stream",
     "text": [
      "<lifetimes.BetaGeoFitter: fitted with 4291 subjects, a: 0.16, alpha: 58.36, b: 0.35, r: 2.14>\n"
     ]
    },
    {
     "data": {
      "text/plain": [
       "'\\n<lifetimes.BetaGeoFitter: fitted with 2357 subjects, a: 0.79, alpha: 4.41, b: 2.43, r: 0.24>\\n'"
      ]
     },
     "execution_count": 152,
     "metadata": {},
     "output_type": "execute_result"
    }
   ],
   "source": [
    "bgf = BetaGeoFitter(penalizer_coef=0.0)\n",
    "bgf.fit(lifetime_df['frequency'], lifetime_df['recency'], lifetime_df['T'])\n",
    "print(bgf)\n",
    "\"\"\"\n",
    "<lifetimes.BetaGeoFitter: fitted with 2357 subjects, a: 0.79, alpha: 4.41, b: 2.43, r: 0.24>\n",
    "\"\"\""
   ]
  },
  {
   "cell_type": "code",
   "execution_count": 153,
   "metadata": {},
   "outputs": [
    {
     "data": {
      "text/plain": [
       "<matplotlib.axes._subplots.AxesSubplot at 0x7f0b797c0c18>"
      ]
     },
     "execution_count": 153,
     "metadata": {},
     "output_type": "execute_result"
    },
    {
     "data": {
      "image/png": "[encoded data removed]",
      "text/plain": [
       "<matplotlib.figure.Figure at 0x7f0b797dc748>"
      ]
     },
     "metadata": {},
     "output_type": "display_data"
    }
   ],
   "source": [
    "from lifetimes.plotting import plot_frequency_recency_matrix\n",
    "\n",
    "plot_frequency_recency_matrix(bgf)"
   ]
  },
  {
   "cell_type": "code",
   "execution_count": 154,
   "metadata": {},
   "outputs": [
    {
     "data": {
      "text/plain": [
       "<matplotlib.axes._subplots.AxesSubplot at 0x7f0b796eb2e8>"
      ]
     },
     "execution_count": 154,
     "metadata": {},
     "output_type": "execute_result"
    },
    {
     "data": {
      "image/png": "[encoded data removed]",
      "text/plain": [
       "<matplotlib.figure.Figure at 0x7f0b79683748>"
      ]
     },
     "metadata": {},
     "output_type": "display_data"
    }
   ],
   "source": [
    "from lifetimes.plotting import plot_probability_alive_matrix\n",
    "\n",
    "plot_probability_alive_matrix(bgf)"
   ]
  },
  {
   "cell_type": "code",
   "execution_count": 155,
   "metadata": {
    "collapsed": true
   },
   "outputs": [],
   "source": [
    "#cumulative probabilities\n",
    "for i in range(1,700):\n",
    "    t = i \n",
    "    lifetime_df['predicted_purchases_cum_'+ str(i)] = bgf.conditional_expected_number_of_purchases_up_to_time(t, lifetime_df['frequency'], lifetime_df['recency'], lifetime_df['T'])"
   ]
  },
  {
   "cell_type": "code",
   "execution_count": 156,
   "metadata": {},
   "outputs": [],
   "source": [
    "#Now that we have the cumulative probabilities, we will check when these probabilities get as close as possible\n",
    "#to one and at this date (colum), it will mean that statistcally speaking, there is a high likelihood that the customer\n",
    "#will have made purchase again during that time period.\n",
    "lifetime_df2 = lifetime_df.iloc[:,4:].apply(lambda x: np.abs(1-x))"
   ]
  },
  {
   "cell_type": "code",
   "execution_count": 161,
   "metadata": {},
   "outputs": [],
   "source": [
    "predicted_day = lifetime_df2.idxmin(axis=1)"
   ]
  },
  {
   "cell_type": "code",
   "execution_count": 163,
   "metadata": {},
   "outputs": [
    {
     "data": {
      "text/plain": [
       "12347    Next purchase within _48 days\n",
       "12348    Next purchase within _81 days\n",
       "12349    Next purchase within _56 days\n",
       "12350    Next purchase within 699 days\n",
       "12352    Next purchase within _42 days\n",
       "12353    Next purchase within 699 days\n",
       "12354    Next purchase within 699 days\n",
       "12355    Next purchase within 699 days\n",
       "12356    Next purchase within _84 days\n",
       "12357    Next purchase within _97 days\n",
       "12358    Next purchase within _59 days\n",
       "12359    Next purchase within _73 days\n",
       "12360    Next purchase within _63 days\n",
       "12361    Next purchase within 699 days\n",
       "12362    Next purchase within _30 days\n",
       "12363    Next purchase within 137 days\n",
       "12364    Next purchase within _30 days\n",
       "12365    Next purchase within 699 days\n",
       "12367    Next purchase within _34 days\n",
       "12370    Next purchase within _77 days\n",
       "12371    Next purchase within 236 days\n",
       "12372    Next purchase within _87 days\n",
       "12373    Next purchase within 699 days\n",
       "12374    Next purchase within _72 days\n",
       "12375    Next purchase within _46 days\n",
       "12377    Next purchase within 699 days\n",
       "12378    Next purchase within 699 days\n",
       "12379    Next purchase within 101 days\n",
       "12380    Next purchase within _44 days\n",
       "12381    Next purchase within _31 days\n",
       "                     ...              \n",
       "18242    Next purchase within _73 days\n",
       "18245    Next purchase within _61 days\n",
       "18246    Next purchase within _86 days\n",
       "18248    Next purchase within 200 days\n",
       "18249    Next purchase within _54 days\n",
       "18250    Next purchase within 699 days\n",
       "18251    Next purchase within 560 days\n",
       "18252    Next purchase within _77 days\n",
       "18255    Next purchase within 594 days\n",
       "18257    Next purchase within _42 days\n",
       "18259    Next purchase within _93 days\n",
       "18260    Next purchase within 176 days\n",
       "18261    Next purchase within _57 days\n",
       "18262    Next purchase within 699 days\n",
       "18263    Next purchase within _69 days\n",
       "18265    Next purchase within _91 days\n",
       "18268    Next purchase within 699 days\n",
       "18269    Next purchase within 699 days\n",
       "18270    Next purchase within _98 days\n",
       "18272    Next purchase within _39 days\n",
       "18273    Next purchase within _43 days\n",
       "18274    Next purchase within _87 days\n",
       "18276    Next purchase within 137 days\n",
       "18277    Next purchase within 228 days\n",
       "18278    Next purchase within 369 days\n",
       "18280    Next purchase within 699 days\n",
       "18281    Next purchase within 699 days\n",
       "18282    Next purchase within _53 days\n",
       "18283    Next purchase within _25 days\n",
       "18287    Next purchase within _88 days\n",
       "Length: 4291, dtype: object"
      ]
     },
     "execution_count": 163,
     "metadata": {},
     "output_type": "execute_result"
    }
   ],
   "source": [
    "#For each customer, we get a timeframe in which he will make his next purchase\n",
    "predicted_day.apply(lambda x: 'Next purchase within ' + str(x[-3:]) + ' days')"
   ]
  },
  {
   "cell_type": "markdown",
   "metadata": {},
   "source": [
    "The study period is for the next 700 days. Customers with day values of 699 days mean that there is a very low likelihood that they will ever purchase again. These are customer that made a purchase once in the past and a long time ago from the end point of the study period (frequency low, T high and Recency low)."
   ]
  },
  {
   "cell_type": "code",
   "execution_count": 148,
   "metadata": {},
   "outputs": [
    {
     "data": {
      "text/plain": [
       "<matplotlib.axes._subplots.AxesSubplot at 0x7f0b79861ba8>"
      ]
     },
     "execution_count": 148,
     "metadata": {},
     "output_type": "execute_result"
    },
    {
     "data": {
      "image/png": "[encoded data removed]",
      "text/plain": [
       "<matplotlib.figure.Figure at 0x7f0b7988fc88>"
      ]
     },
     "metadata": {},
     "output_type": "display_data"
    }
   ],
   "source": [
    "from lifetimes.plotting import plot_period_transactions\n",
    "plot_period_transactions(bgf)"
   ]
  },
  {
   "cell_type": "code",
   "execution_count": 1017,
   "metadata": {},
   "outputs": [
    {
     "data": {
      "text/plain": [
       "0.20902985651068831"
      ]
     },
     "execution_count": 1017,
     "metadata": {},
     "output_type": "execute_result"
    }
   ],
   "source": [
    "t = 10 #predict purchases in 10 periods\n",
    "individual = lifetime_df.iloc[0]\n",
    "# The below function is an alias to `bfg.conditional_expected_number_of_purchases_up_to_time`\n",
    "bgf.predict(t, individual['frequency'], individual['recency'], individual['T'])\n",
    "# 0.0576511"
   ]
  },
  {
   "cell_type": "code",
   "execution_count": null,
   "metadata": {
    "collapsed": true
   },
   "outputs": [],
   "source": [
    "#constraint1: we only consider customers that have purchased more than once during the period.\n",
    "lifetime_df2 = lifetime_df[(lifetime_df['frequency'] > 1)]"
   ]
  },
  {
   "cell_type": "code",
   "execution_count": null,
   "metadata": {
    "collapsed": true
   },
   "outputs": [],
   "source": [
    "#constraint2: we wonly consider customers that have an interval between their first and last purchase of at least\n",
    "#two months and where the time between their first purchase and end of period is less than 6 months\n",
    "lifetime_df3 = lifetime_df2[(lifetime_df2['recency'] > 60) | (lifetime_df2['T'] < 180)]"
   ]
  }
 ],
 "metadata": {
  "kernelspec": {
   "display_name": "Python 3",
   "language": "python",
   "name": "python3"
  },
  "language_info": {
   "codemirror_mode": {
    "name": "ipython",
    "version": 3
   },
   "file_extension": ".py",
   "mimetype": "text/x-python",
   "name": "python",
   "nbconvert_exporter": "python",
   "pygments_lexer": "ipython3",
   "version": "3.6.1"
  }
 },
 "nbformat": 4,
 "nbformat_minor": 2
}
